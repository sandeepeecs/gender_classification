{
 "cells": [
  {
   "cell_type": "code",
   "execution_count": 111,
   "metadata": {
    "collapsed": true
   },
   "outputs": [],
   "source": [
    "import numpy as np\n",
    "from sklearn.cross_validation import train_test_split, cross_val_score\n",
    "from sklearn.ensemble import RandomForestClassifier\n",
    "from sklearn import svm\n",
    "import csv"
   ]
  },
  {
   "cell_type": "code",
   "execution_count": 112,
   "metadata": {
    "collapsed": false
   },
   "outputs": [],
   "source": [
    "#this function converts name to a feature vector \n",
    "def convert_name(name):\n",
    "    arr = np.zeros(26*26+1513)\n",
    "    #26*26 all possiable 2-grams and 1513 features for last 3 charaters\n",
    "    name = str(name)\n",
    "    # Iterate every 2 characters 2gram and caliculate the frequency of the 2gram\n",
    "    for x in range(len(name)-1):\n",
    "        ind = (ord(name[x])-ord('a'))*26 + (ord(name[x+1])-ord('a'))\n",
    "        arr[ind] += 1\n",
    "    #check last 3 characters and set the value to 1 if the last 3 character key is found in the features dictionary for that index \n",
    "    if name[-3:] in my_features.keys():\n",
    "        ind = my_features[name[-3:]]+676\n",
    "        arr[ind]=1\n",
    "        \n",
    "    # check if Last character is vowel\n",
    "    if (name[-1]=='a' or name[-1]=='e' or name[-1]=='i' or name[-1]=='o' or name[-1]=='u' or name[-1]=='y'):\n",
    "        arr[-1] = 1\n",
    "    else:\n",
    "        arr[-1] = 0\n",
    "    return arr"
   ]
  },
  {
   "cell_type": "code",
   "execution_count": 113,
   "metadata": {
    "collapsed": false
   },
   "outputs": [],
   "source": [
    "#load data\n",
    "my_data = np.genfromtxt('data/gender.csv', \n",
    "                        delimiter=',', \n",
    "                        dtype=[('name','<U16'), ('gender','<U8'),('count','i4')],\n",
    "                        converters={0: lambda s:s.lower()})\n",
    "my_data = np.array([row for row in my_data])\n",
    "\n",
    "#load most common last 3 character for india names create a features dictionary\n",
    "features_reader = csv.reader(open('data/features.csv', 'r'))\n",
    "my_features = {}\n",
    "for row in features_reader:\n",
    "   k, v = row\n",
    "   my_features[k] = int(v)\n"
   ]
  },
  {
   "cell_type": "code",
   "execution_count": 114,
   "metadata": {
    "collapsed": true
   },
   "outputs": [],
   "source": [
    "name_map = np.vectorize(convert_name, otypes=[np.ndarray])\n",
    "Xlist = name_map(my_data['name'])\n",
    "X = np.array(Xlist.tolist())\n",
    "y = my_data['gender']"
   ]
  },
  {
   "cell_type": "code",
   "execution_count": 115,
   "metadata": {
    "collapsed": false
   },
   "outputs": [
    {
     "name": "stdout",
     "output_type": "stream",
     "text": [
      "0.816666666667\n",
      "0.816388888889\n",
      "0.808055555556\n",
      "0.824444444444\n",
      "0.812777777778\n"
     ]
    }
   ],
   "source": [
    "for x in range(5):\n",
    "    Xtr, Xte, ytr, yte = train_test_split(X, y, test_size=0.33)\n",
    "    clf = RandomForestClassifier(n_estimators=100, min_samples_split=2)\n",
    "    clf.fit(Xtr, ytr)\n",
    "    print(np.mean(clf.predict(Xte) == yte))"
   ]
  },
  {
   "cell_type": "code",
   "execution_count": 98,
   "metadata": {
    "collapsed": false
   },
   "outputs": [
    {
     "name": "stdout",
     "output_type": "stream",
     "text": [
      "Feature ranking:\n",
      "1. feature 2188 (0.149807)\n",
      "2. feature 182 (0.011254)\n",
      "3. feature 13 (0.010982)\n",
      "4. feature 442 (0.010012)\n",
      "5. feature 338 (0.009405)\n",
      "6. feature 714 (0.009214)\n",
      "7. feature 346 (0.008889)\n",
      "8. feature 475 (0.008582)\n",
      "9. feature 312 (0.008490)\n",
      "10. feature 502 (0.008374)\n"
     ]
    },
    {
     "data": {
      "image/png": "[encoded data removed]",
      "text/plain": [
       "<matplotlib.figure.Figure at 0x124271be0>"
      ]
     },
     "metadata": {},
     "output_type": "display_data"
    }
   ],
   "source": [
    "#check important features\n",
    "clf.feature_importances_\n",
    "importances = clf.feature_importances_\n",
    "std = np.std([tree.feature_importances_ for tree in clf.estimators_],\n",
    "             axis=0)\n",
    "indices = np.argsort(importances)[::-1]\n",
    "indices = indices[:10]\n",
    "# Print the feature ranking\n",
    "print(\"Feature ranking:\")\n",
    "\n",
    "for f in range(10):\n",
    "    print(\"%d. feature %d (%f)\" % (f + 1, indices[f], importances[indices[f]]))\n",
    "\n",
    "import matplotlib.pyplot as plt\n",
    "plt.figure()\n",
    "plt.title(\"Feature importances\")\n",
    "plt.bar(range(10), importances[indices],\n",
    "       color=\"r\", yerr=std[indices], align=\"center\")\n",
    "plt.xticks(range(10), indices)\n",
    "plt.xlim([-1, 10])\n",
    "plt.show()"
   ]
  },
  {
   "cell_type": "code",
   "execution_count": 99,
   "metadata": {
    "collapsed": false
   },
   "outputs": [
    {
     "name": "stdout",
     "output_type": "stream",
     "text": [
      "sharmale M M\n",
      "kshaunish M M\n",
      "mubshshira F F\n",
      "kuso F F\n",
      "devesh M M\n",
      "aisha F F\n",
      "sagitaharsita F F\n",
      "prabhu M M\n",
      "jugender M M\n",
      "heman M M\n"
     ]
    }
   ],
   "source": [
    "idx = np.random.choice(np.arange(len(Xlist)), 10, replace=False)\n",
    "xs = my_data['name'][idx]\n",
    "ys = y[idx]\n",
    "pred = clf.predict(X[idx])\n",
    "for a,b, p in zip(xs,ys, pred):\n",
    "     print(a,b,p)"
   ]
  },
  {
   "cell_type": "code",
   "execution_count": 110,
   "metadata": {
    "collapsed": false
   },
   "outputs": [
    {
     "data": {
      "text/plain": [
       "array(['F', 'F', 'M', 'F', 'M', 'F', 'F', 'M'], \n",
       "      dtype='<U8')"
      ]
     },
     "execution_count": 110,
     "metadata": {},
     "output_type": "execute_result"
    }
   ],
   "source": [
    "#give some name not present in test/training data (manual check)\n",
    "xreal = name_map(['virinchi','samanvi','ashrith','saikeerthi','seol','vistista','kranthi','anveesh'])\n",
    "Xreal_conveted = np.array(xreal.tolist())\n",
    "pred = clf.predict(Xreal_conveted)\n",
    "pred"
   ]
  },
  {
   "cell_type": "code",
   "execution_count": null,
   "metadata": {
    "collapsed": true
   },
   "outputs": [],
   "source": []
  },
  {
   "cell_type": "code",
   "execution_count": null,
   "metadata": {
    "collapsed": true
   },
   "outputs": [],
   "source": []
  }
 ],
 "metadata": {
  "anaconda-cloud": {},
  "kernelspec": {
   "display_name": "Python [conda root]",
   "language": "python",
   "name": "conda-root-py"
  },
  "language_info": {
   "codemirror_mode": {
    "name": "ipython",
    "version": 3
   },
   "file_extension": ".py",
   "mimetype": "text/x-python",
   "name": "python",
   "nbconvert_exporter": "python",
   "pygments_lexer": "ipython3",
   "version": "3.5.2"
  }
 },
 "nbformat": 4,
 "nbformat_minor": 1
}
